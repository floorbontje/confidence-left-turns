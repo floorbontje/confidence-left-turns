{
 "cells": [
  {
   "cell_type": "code",
   "execution_count": 1,
   "metadata": {},
   "outputs": [],
   "source": [
    "import numpy as np\n",
    "import pandas as pd\n",
    "import matplotlib.pyplot as plt\n",
    "from scipy.optimize import differential_evolution"
   ]
  },
  {
   "cell_type": "code",
   "execution_count": 15,
   "metadata": {},
   "outputs": [],
   "source": [
    "def get_model_sim_results(params, tta_condition, n_trials=10000):\n",
    "    tta_crit, noise_intensity, delay_mean, delay_std = params\n",
    "    \n",
    "    noise = noise_intensity*np.random.randn(n_trials)\n",
    "    perceived_tau = tta_condition + noise\n",
    "    \n",
    "    rts = delay_mean + delay_std*np.random.randn(n_trials)\n",
    "    perceived_tau = perceived_tau[rts>0] \n",
    "    rts = rts[rts>0]\n",
    "    \n",
    "    sim_result = pd.DataFrame({'perceived_tta': perceived_tau, 'RT': rts})\n",
    "    sim_result['tta_condition'] = tta_condition\n",
    "    sim_result['is_turn_decision'] = sim_result['perceived_tta'] > tta_crit\n",
    "    \n",
    "    return sim_result\n",
    "    \n",
    "def model_error_wls_per_condition(exp_data, model_measures):\n",
    "    # weighted least squares fitting, as described in Ratcliff & Tuerlinckx 2002   \n",
    "    p_exp = exp_data.is_turn_decision.mean()\n",
    "    p_model = model_measures.is_turn_decision.mean()\n",
    "    delta_p = (p_model - p_exp)**2\n",
    "\n",
    "    rt_quantiles = [0.1, 0.3, 0.5, 0.7, 0.9]\n",
    "    rt_q_weights = [2, 2, 1, 1, 0.5]\n",
    "\n",
    "    model_rt_quantiles = model_measures[model_measures.is_turn_decision].RT.quantile(rt_quantiles)\n",
    "    model_rt_quantiles[np.isnan(model_rt_quantiles)] = 0\n",
    "        \n",
    "    exp_rt_quantiles = exp_data[exp_data.is_turn_decision].RT.quantile(rt_quantiles)    \n",
    "    \n",
    "    return 4*delta_p + np.dot((model_rt_quantiles-exp_rt_quantiles)**2, rt_q_weights)*p_exp\n",
    "\n",
    "def model_error_wls(model_measures, exp_data):\n",
    "    error = [model_error_wls_per_condition(model_measures[model_measures.tta_condition==tta],\n",
    "                                           exp_data[exp_data.tta_condition==tta]) for tta in [4, 5, 6]]\n",
    "    return sum(error)\n",
    "\n",
    "def f_wls(params):    \n",
    "    exp_data = pd.read_csv('measures.csv')\n",
    "    model_measures = pd.concat([get_model_sim_results(params=params, tta_condition=tta) for tta in [4, 5, 6]])\n",
    "    f = model_error_wls(model_measures, exp_data)\n",
    "#     print(f, params)\n",
    "    return f"
   ]
  },
  {
   "cell_type": "code",
   "execution_count": 16,
   "metadata": {
    "scrolled": true
   },
   "outputs": [
    {
     "name": "stderr",
     "output_type": "stream",
     "text": [
      "C:\\ProgramData\\Anaconda3\\lib\\site-packages\\ipykernel_launcher.py:8: RuntimeWarning: invalid value encountered in greater\n",
      "  \n",
      "C:\\ProgramData\\Anaconda3\\lib\\site-packages\\ipykernel_launcher.py:9: RuntimeWarning: invalid value encountered in greater\n",
      "  if __name__ == '__main__':\n"
     ]
    }
   ],
   "source": [
    "# typical values (5.3, 1.0, 0.6, 0.25)\n",
    "# tta_crit, noise_intensity, delay_mean, delay_std = params\n",
    "bounds = [(3, 6), (0.1, 2.0), (0.0, 1.0), (0.0, 0.5)]\n",
    "fit_result = differential_evolution(f_wls, bounds)"
   ]
  },
  {
   "cell_type": "code",
   "execution_count": 19,
   "metadata": {},
   "outputs": [
    {
     "data": {
      "text/plain": [
       "array([5.15148558, 0.10799071, 0.46801017, 0.33027003])"
      ]
     },
     "execution_count": 19,
     "metadata": {},
     "output_type": "execute_result"
    }
   ],
   "source": [
    "fit_result.x"
   ]
  },
  {
   "cell_type": "code",
   "execution_count": 20,
   "metadata": {},
   "outputs": [
    {
     "data": {
      "text/plain": [
       "nan"
      ]
     },
     "execution_count": 20,
     "metadata": {},
     "output_type": "execute_result"
    }
   ],
   "source": [
    "fit_result.fun"
   ]
  },
  {
   "cell_type": "code",
   "execution_count": 8,
   "metadata": {},
   "outputs": [],
   "source": [
    "params = fit_result.x"
   ]
  },
  {
   "cell_type": "code",
   "execution_count": 9,
   "metadata": {},
   "outputs": [],
   "source": [
    "model_measures = pd.concat([get_model_sim_results(params=params, tta_condition=tta) for tta in [4, 5, 6]])\n",
    "exp_data = pd.read_csv('measures.csv')"
   ]
  },
  {
   "cell_type": "code",
   "execution_count": 10,
   "metadata": {},
   "outputs": [],
   "source": [
    "model_measures = model_measures[model_measures.tta_condition==4]\n",
    "exp_data = exp_data[exp_data.tta_condition==4]"
   ]
  },
  {
   "cell_type": "code",
   "execution_count": 11,
   "metadata": {},
   "outputs": [],
   "source": [
    "p_exp = exp_data.is_turn_decision.mean()\n",
    "p_model = model_measures.is_turn_decision.mean()\n",
    "delta_p = (p_model - p_exp)**2\n",
    "\n",
    "rt_quantiles = [0.1, 0.3, 0.5, 0.7, 0.9]\n",
    "rt_q_weights = [2, 2, 1, 1, 0.5]\n",
    "\n",
    "model_rt_quantiles = model_measures[model_measures.is_turn_decision].RT.quantile(rt_quantiles)\n",
    "exp_rt_quantiles = exp_data[exp_data.is_turn_decision].RT.quantile(rt_quantiles)    "
   ]
  },
  {
   "cell_type": "code",
   "execution_count": 13,
   "metadata": {},
   "outputs": [
    {
     "data": {
      "text/plain": [
       "0.1    0.0\n",
       "0.3    0.0\n",
       "0.5    0.0\n",
       "0.7    0.0\n",
       "0.9    0.0\n",
       "Name: RT, dtype: float64"
      ]
     },
     "execution_count": 13,
     "metadata": {},
     "output_type": "execute_result"
    }
   ],
   "source": [
    "# model_rt_quantiles[np.isnan(model_rt_quantiles)] = 0\n",
    "model_rt_quantiles"
   ]
  },
  {
   "cell_type": "markdown",
   "metadata": {},
   "source": [
    "# Obsolete"
   ]
  },
  {
   "cell_type": "code",
   "execution_count": 4,
   "metadata": {},
   "outputs": [
    {
     "name": "stdout",
     "output_type": "stream",
     "text": [
      "0.929\n"
     ]
    }
   ],
   "source": [
    "def get_measures(trial_log, tta_crit, nondecision_time):\n",
    "    idx_ndt = np.where(trial_log.t>nondecision_time)[0][0]\n",
    "#     print(trial_log.x.values[idx_ndt])\n",
    "    is_turn_decision = trial_log.x.values[idx_ndt] > tta_crit\n",
    "    return is_turn_decision\n",
    "\n",
    "condition = (6, 90)\n",
    "params = (0.8, 0.4, 4.5)\n",
    "tta_condition, distance_condition = condition\n",
    "noise_intensity, nondecision_time, tta_crit = params\n",
    "n_sim=1000\n",
    "t_max=2.5\n",
    "dt=0.01\n",
    "\n",
    "noise = np.random.randn(n_sim, int(t_max/dt))\n",
    "t = np.arange(0, t_max, dt)\n",
    "tau = np.arange(tta_condition, tta_condition-t_max, -dt)\n",
    "x = tau + noise_intensity*noise\n",
    "# this assumes that stimulus is not perceived during nondecision time\n",
    "# x[:,tta_condition-tau<nondecision_time] = np.nan\n",
    "df = pd.DataFrame({'t': np.tile(t, n_sim), \n",
    "                   'x': pd.DataFrame(x).stack(dropna=False)}).reset_index()\n",
    "df = df.rename(columns = {'level_0': 'trial', 'level_1': 'i'})\n",
    "\n",
    "decisions = df.groupby('trial').apply(lambda trial_log: get_measures(trial_log, tta_crit, nondecision_time))\n",
    "p_turn = decisions.mean()\n",
    "print(p_turn)"
   ]
  },
  {
   "cell_type": "code",
   "execution_count": 63,
   "metadata": {},
   "outputs": [
    {
     "data": {
      "text/plain": [
       "<matplotlib.lines.Line2D at 0x1e2ea3f3dc8>"
      ]
     },
     "execution_count": 63,
     "metadata": {},
     "output_type": "execute_result"
    },
    {
     "data": {
      "image/png": "[encoded data removed]",
      "text/plain": [
       "<Figure size 432x288 with 1 Axes>"
      ]
     },
     "metadata": {
      "needs_background": "light"
     },
     "output_type": "display_data"
    }
   ],
   "source": [
    "fig, ax = plt.subplots(1)\n",
    "for x_i in x[:10]:\n",
    "    ax.plot(tta_condition-tau, x_i)\n",
    "    \n",
    "ax.axhline(tta_crit)"
   ]
  }
 ],
 "metadata": {
  "kernelspec": {
   "display_name": "Python 3",
   "language": "python",
   "name": "python3"
  },
  "language_info": {
   "codemirror_mode": {
    "name": "ipython",
    "version": 3
   },
   "file_extension": ".py",
   "mimetype": "text/x-python",
   "name": "python",
   "nbconvert_exporter": "python",
   "pygments_lexer": "ipython3",
   "version": "3.7.4"
  }
 },
 "nbformat": 4,
 "nbformat_minor": 2
}
