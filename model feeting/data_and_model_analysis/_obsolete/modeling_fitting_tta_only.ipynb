{
 "cells": [
  {
   "cell_type": "code",
   "execution_count": 1,
   "metadata": {},
   "outputs": [],
   "source": [
    "import numpy as np\n",
    "import pandas as pd\n",
    "import matplotlib.pyplot as plt\n",
    "import seaborn as sns\n",
    "from scipy import interpolate, optimize\n",
    "import ddm\n",
    "import ddm.plot\n",
    "import os \n",
    "import paranoid as pns\n",
    "pns.settings.Settings.set(enabled=False)"
   ]
  },
  {
   "cell_type": "markdown",
   "metadata": {},
   "source": [
    "# Loss function definitions"
   ]
  },
  {
   "cell_type": "code",
   "execution_count": 2,
   "metadata": {},
   "outputs": [],
   "source": [
    "class LossByMeans(ddm.LossFunction):\n",
    "    # This is a shortcut loss function for optimizing fit to accuracy and mean RT, as opposed to full RT distribution\n",
    "    name = 'Mean correct RT and accuracy'\n",
    "    def setup(self, dt, T_dur, **kwargs):\n",
    "        self.dt = dt\n",
    "        self.T_dur = T_dur\n",
    "        self.exp_data = pd.read_csv('measures.csv', usecols=['RT', 'is_turn_decision', 'tta_condition'])\n",
    "        \n",
    "    def loss(self, model):\n",
    "        sols = self.cache_by_conditions(model)\n",
    "        MSE = 0\n",
    "        for comb in self.sample.condition_combinations(required_conditions=self.required_conditions):\n",
    "            c = frozenset(comb.items())\n",
    "            mean_rt_exp_cor = self.exp_data[(self.exp_data.tta_condition == comb['tta_condition']) & \n",
    "                                            self.exp_data.is_turn_decision == True].RT.mean()\n",
    "            comb_sample = self.sample.subset(**comb)\n",
    "            MSE += (sols[c].prob_correct() - comb_sample.prob_correct())**2\n",
    "            if sols[c].prob_correct() > 0:\n",
    "                MSE += (sols[c].mean_decision_time() - mean_rt_exp_cor)**2\n",
    "        return MSE\n",
    "    \n",
    "class LossWLS(ddm.LossFunction):\n",
    "    name = 'Weighted least squares as described in Ratcliff & Tuerlinckx 2002'\n",
    "    rt_quantiles = [0.1, 0.3, 0.5, 0.7, 0.9]\n",
    "    rt_q_weights = [2, 2, 1, 1, 0.5]\n",
    "    \n",
    "    def setup(self, dt, T_dur, **kwargs):\n",
    "        self.dt = dt\n",
    "        self.T_dur = T_dur\n",
    "    \n",
    "    def get_rt_quantiles(self, x, t_domain, exp=False):\n",
    "        cdf = x.cdf_corr(T_dur=self.T_dur, dt=self.dt) if exp else x.cdf_corr()\n",
    "        cdf_interp = interpolate.interp1d(t_domain, cdf/cdf[-1])\n",
    "        rt_quantile_values = [optimize.root_scalar(lambda x:cdf_interp(x)-quantile, bracket=(0, t_domain[-1])).root\n",
    "                              for quantile in self.rt_quantiles]\n",
    "        return np.array(rt_quantile_values)\n",
    "    \n",
    "    def loss(self, model):\n",
    "        solultions = self.cache_by_conditions(model)\n",
    "        WLS = 0\n",
    "        for comb in self.sample.condition_combinations(required_conditions=self.required_conditions):\n",
    "            c = frozenset(comb.items())\n",
    "            comb_sample = self.sample.subset(**comb)\n",
    "            WLS += 4*(solultions[c].prob_correct() - comb_sample.prob_correct())**2\n",
    "            if solultions[c].prob_correct() > 0:\n",
    "                model_rt_q = self.get_rt_quantiles(solultions[c], model.t_domain(), exp=False)\n",
    "                exp_rt_q = self.get_rt_quantiles(comb_sample, model.t_domain(), exp=True)\n",
    "                # this can be modified from R&T 2002: *comb_sample.prob_correct() can be removed to improve RT fit at low-p trials\n",
    "                WLS += np.dot((model_rt_q-exp_rt_q)**2, self.rt_q_weights)*comb_sample.prob_correct()\n",
    "        return WLS"
   ]
  },
  {
   "cell_type": "markdown",
   "metadata": {},
   "source": [
    "# Helper functions"
   ]
  },
  {
   "cell_type": "code",
   "execution_count": 25,
   "metadata": {},
   "outputs": [],
   "source": [
    "def get_model_measures(model, tta_condition):\n",
    "    sol = model.solve(conditions={'tta_condition': tta_condition})\n",
    "    return tta_condition, sol.prob_correct(), sol.mean_decision_time()\n",
    "        \n",
    "def save_fitting_results(exp_data, fit_model):\n",
    "    print(fit_model.name)\n",
    "    print('Loss function value: %.5f' % (fit_model.get_fit_result().value()))\n",
    "    print('Number of parameters: %i' % (len(fit_model.get_model_parameters())-1))\n",
    "    print('Parameter values: ', fit_model.get_model_parameters())\n",
    "    \n",
    "    directory = 'model_fit_results/%s' % (fit_model.name.lower().replace(' ', '_'))\n",
    "    if not os.path.exists(directory):\n",
    "        os.makedirs(directory)\n",
    "    \n",
    "    model_measures = [get_model_measures(fit_model, tta_condition) for tta_condition in exp_data.tta_condition.unique()]\n",
    "    model_measures = pd.DataFrame(model_measures, columns=['tta_condition', 'is_turn_decision', 'RT'])\n",
    "    model_measures['loss'] = fit_model.get_fit_result().value()    \n",
    "    model_measures.to_csv(os.path.join(directory, 'measures.csv'), index=False)\n",
    "    \n",
    "    rt_dfs = []\n",
    "    for i, tta_condition in enumerate(exp_data.tta_condition.unique()):\n",
    "        sol = fit_model.solve(conditions={'tta_condition': tta_condition})\n",
    "        rt_df = pd.DataFrame({'condition': tta_condition,\n",
    "                              't': fit_model.t_domain(),\n",
    "                              'rt_corr_pdf': sol.pdf_corr()/sol.prob_correct()})\n",
    "        rt_dfs.append(rt_df)\n",
    "    rt_dfs = pd.concat(rt_dfs)\n",
    "    rt_dfs.to_csv(os.path.join(directory, 'rt_pdf.csv'), index=False)"
   ]
  },
  {
   "cell_type": "markdown",
   "metadata": {},
   "source": [
    "# Model definitions"
   ]
  },
  {
   "cell_type": "markdown",
   "metadata": {},
   "source": [
    "Duration of model simulations is set to 2.5 (upper boundary on experimentally observed response times)"
   ]
  },
  {
   "cell_type": "code",
   "execution_count": 4,
   "metadata": {},
   "outputs": [],
   "source": [
    "T_dur = 2.5"
   ]
  },
  {
   "cell_type": "markdown",
   "metadata": {},
   "source": [
    "### Model 1. DDM with TTA-dependent drift "
   ]
  },
  {
   "cell_type": "code",
   "execution_count": 5,
   "metadata": {},
   "outputs": [],
   "source": [
    "class DriftTta(ddm.models.Drift):\n",
    "    name = 'Drift depends on TTA'\n",
    "    required_parameters = ['alpha', 'tta_crit']\n",
    "    required_conditions = ['tta_condition'] \n",
    "    \n",
    "    def get_drift(self, t, conditions, **kwargs):\n",
    "        return self.alpha*(conditions['tta_condition'] - t - self.tta_crit)"
   ]
  },
  {
   "cell_type": "code",
   "execution_count": 6,
   "metadata": {},
   "outputs": [],
   "source": [
    "model_tta_dependent_drift = ddm.Model(name='1 TTA-dependent drift',\n",
    "                                      drift=DriftTta(alpha=ddm.Fittable(minval=0.1, maxval=3),\n",
    "                                                     tta_crit=ddm.Fittable(minval=3, maxval=6)),\n",
    "                                      noise=ddm.NoiseConstant(noise=1),\n",
    "                                      bound=ddm.BoundConstant(B=ddm.Fittable(minval=.1, maxval=3.0)),\n",
    "                                      T_dur=T_dur)"
   ]
  },
  {
   "cell_type": "markdown",
   "metadata": {},
   "source": [
    "### Model 2. Model 1 + nondecision time"
   ]
  },
  {
   "cell_type": "code",
   "execution_count": 7,
   "metadata": {},
   "outputs": [],
   "source": [
    "model_nondecision_time_fixed = ddm.Model(name='2 TTA-dependent drift and fixed nondecision time',\n",
    "                                      drift=DriftTta(alpha=ddm.Fittable(minval=0.1, maxval=3),\n",
    "                                                     tta_crit=ddm.Fittable(minval=3, maxval=6)),\n",
    "                                      noise=ddm.NoiseConstant(noise=1),\n",
    "                                      bound=ddm.BoundConstant(B=ddm.Fittable(minval=.1, maxval=3.0)),\n",
    "                                      overlay=ddm.OverlayNonDecision(nondectime=ddm.Fittable(minval=0, maxval=0.5)),\n",
    "                                      T_dur=T_dur)"
   ]
  },
  {
   "cell_type": "markdown",
   "metadata": {},
   "source": [
    "### Model 3. Model 2 + nondecision time variability"
   ]
  },
  {
   "cell_type": "code",
   "execution_count": 8,
   "metadata": {},
   "outputs": [],
   "source": [
    "model_nondecision_time_variable = ddm.Model(name='3 TTA-dependent drift and uniformly distributed nondecision time',\n",
    "                                     drift=DriftTta(alpha=ddm.Fittable(minval=0.1, maxval=3),\n",
    "                                                    tta_crit=ddm.Fittable(minval=3, maxval=6)),\n",
    "                                     noise=ddm.NoiseConstant(noise=1),\n",
    "                                     bound=ddm.BoundConstant(B=ddm.Fittable(minval=.1, maxval=3.0)),\n",
    "                                     overlay=ddm.OverlayNonDecisionUniform(nondectime=ddm.Fittable(minval=0, maxval=0.5),\n",
    "                                                                           halfwidth=ddm.Fittable(minval=0, maxval=0.3)),\n",
    "                                     T_dur=T_dur)"
   ]
  },
  {
   "cell_type": "markdown",
   "metadata": {},
   "source": [
    "### Model 4. Model 3 + collapsing bounds"
   ]
  },
  {
   "cell_type": "code",
   "execution_count": 16,
   "metadata": {},
   "outputs": [],
   "source": [
    "model_collapsing_bounds = ddm.Model(name='4 TTA-dependent drift and uniformly distributed nondecision time and exponentially collapsing bounds',\n",
    "                                    drift=DriftTta(alpha=ddm.Fittable(minval=0.1, maxval=3), \n",
    "                                                   tta_crit=ddm.Fittable(minval=3, maxval=6)),\n",
    "                                    noise=ddm.NoiseConstant(noise=1),\n",
    "                                    bound=ddm.BoundCollapsingExponential(B=ddm.Fittable(minval=0.5, maxval=5), \n",
    "                                                                         tau=ddm.Fittable(minval=0.5, maxval=5)),\n",
    "                                    overlay=ddm.OverlayNonDecisionUniform(nondectime=ddm.Fittable(minval=0, maxval=0.5),\n",
    "                                                                          halfwidth=ddm.Fittable(minval=0, maxval=0.3)),\n",
    "                                    T_dur=T_dur)"
   ]
  },
  {
   "cell_type": "markdown",
   "metadata": {},
   "source": [
    "### Model 5. Model 3 + TTA-dependent bounds"
   ]
  },
  {
   "cell_type": "code",
   "execution_count": 10,
   "metadata": {},
   "outputs": [
    {
     "data": {
      "image/png": "[encoded data removed]",
      "text/plain": [
       "<Figure size 432x288 with 1 Axes>"
      ]
     },
     "metadata": {
      "needs_background": "light"
     },
     "output_type": "display_data"
    }
   ],
   "source": [
    "b_0 = 1\n",
    "k = 1\n",
    "tta_crit = 5\n",
    "tau = np.linspace(0, 10)\n",
    "b = lambda tau: b_0/(1+np.exp(-k*(tau-tta_crit)))\n",
    "\n",
    "fig, ax = plt.subplots()\n",
    "ax.plot(tau, b(tau))\n",
    "ax.axvline(tta_crit, color='grey', ls='--')\n",
    "ax.set_xlabel(r'$\\tau$')\n",
    "ax.set_ylabel('boundary (in units of $b_0$)')\n",
    "# ax.legend(loc='lower right')\n",
    "ax.set_title(r'$b = b_0/(1+e^{-k(\\tau-\\tau_{crit})})$')\n",
    "ax.text(x=tta_crit, y=0, s=r'$\\tau_{crit}$', fontsize=14);"
   ]
  },
  {
   "cell_type": "code",
   "execution_count": 11,
   "metadata": {},
   "outputs": [],
   "source": [
    "class BoundCollapsingTta(ddm.models.Bound):\n",
    "    name = 'Bounds collapsing with TTA'\n",
    "    required_parameters = ['b_0', 'k', 'tta_crit']\n",
    "    required_conditions = ['tta_condition'] \n",
    "    def get_bound(self, t, conditions, **kwargs):\n",
    "        tau = conditions['tta_condition'] - t\n",
    "        return self.b_0/(1+np.exp(-self.k*(tau-self.tta_crit)))\n",
    "\n",
    "tta_crit = ddm.Fittable(minval=3, maxval=6)\n",
    "    \n",
    "model_TTA_bounds = ddm.Model(name='5 TTA-dependent drift and bounds and uniformly distributed nondecision time',\n",
    "                             drift=DriftTta(alpha=ddm.Fittable(minval=0.1, maxval=5), \n",
    "                                            tta_crit=tta_crit),\n",
    "                             noise=ddm.NoiseConstant(noise=1),\n",
    "                             bound=BoundCollapsingTta(b_0=ddm.Fittable(minval=0.5, maxval=5), \n",
    "                                                      k=ddm.Fittable(minval=0.1, maxval=2),\n",
    "                                                      tta_crit=tta_crit),\n",
    "                             overlay=ddm.OverlayNonDecisionUniform(nondectime=ddm.Fittable(minval=0, maxval=0.5),\n",
    "                                                                   halfwidth=ddm.Fittable(minval=0, maxval=0.3)),\n",
    "                             T_dur=T_dur)"
   ]
  },
  {
   "cell_type": "markdown",
   "metadata": {},
   "source": [
    "# Model fitting"
   ]
  },
  {
   "cell_type": "markdown",
   "metadata": {},
   "source": [
    "Reading experimental data"
   ]
  },
  {
   "cell_type": "code",
   "execution_count": 14,
   "metadata": {},
   "outputs": [],
   "source": [
    "exp_data = pd.read_csv('measures.csv', usecols=['RT', 'is_turn_decision', 'tta_condition'])\n",
    "exp_sample = ddm.Sample.from_pandas_dataframe(df=exp_data, rt_column_name='RT', correct_column_name='is_turn_decision')"
   ]
  },
  {
   "cell_type": "code",
   "execution_count": null,
   "metadata": {},
   "outputs": [],
   "source": [
    "models = [model_tta_dependent_drift, \n",
    "          model_nondecision_time_fixed, \n",
    "          model_nondecision_time_variable,\n",
    "          model_collapsing_bounds, \n",
    "          model_TTA_bounds]\n",
    "\n",
    "fit_models = []\n",
    "for model in models:\n",
    "    print(model.name)\n",
    "    fit_model = ddm.fit_adjust_model(sample=exp_sample, model=model, lossfunction=LossWLS)\n",
    "    save_fitting_results(exp_data, fit_model)\n",
    "    fit_models.append(fit_model)"
   ]
  },
  {
   "cell_type": "code",
   "execution_count": 26,
   "metadata": {},
   "outputs": [
    {
     "name": "stdout",
     "output_type": "stream",
     "text": [
      "1 TTA-dependent drift\n",
      "Loss function value: 0.19168\n",
      "Number of parameters: 3\n",
      "Parameter values:  [Fitted(0.5867959085434452, minval=0.1, maxval=3), Fitted(4.684847440722532, minval=3, maxval=6), 1, Fitted(0.9341252914626389, minval=0.1, maxval=3.0)]\n",
      "2 TTA-dependent drift and fixed nondecision time\n",
      "Loss function value: 0.02783\n",
      "Number of parameters: 4\n",
      "Parameter values:  [Fitted(0.6941550065736614, minval=0.1, maxval=3), Fitted(5.0294822308970435, minval=3, maxval=6), 1, Fitted(0.6350285903762585, minval=0.1, maxval=3.0), Fitted(0.26816256663482235, minval=0, maxval=0.5)]\n",
      "3 TTA-dependent drift and uniformly distributed nondecision time\n",
      "Loss function value: 0.01241\n",
      "Number of parameters: 5\n",
      "Parameter values:  [Fitted(0.8167374305341593, minval=0.1, maxval=3), Fitted(5.125750905461382, minval=3, maxval=6), 1, Fitted(0.5305367251573412, minval=0.1, maxval=3.0), Fitted(0.35849451597598103, minval=0, maxval=0.5), Fitted(0.24451154993591956, minval=0, maxval=0.3)]\n",
      "4 TTA-dependent drift and uniformly distributed nondecision time and exponentially collapsing bounds\n",
      "Loss function value: 0.01521\n",
      "Number of parameters: 6\n",
      "Parameter values:  [Fitted(0.8107199626197884, minval=0.1, maxval=3), Fitted(5.1430537160291685, minval=3, maxval=6), 1, Fitted(0.6000013659838767, minval=0.5, maxval=5), Fitted(0.5009052034103255, minval=0.5, maxval=5), Fitted(0.343854338963584, minval=0, maxval=0.5), Fitted(0.25357694767354433, minval=0, maxval=0.3)]\n",
      "5 TTA-dependent drift and bounds and uniformly distributed nondecision time\n",
      "Loss function value: 0.00772\n",
      "Number of parameters: 7\n",
      "Parameter values:  [Fitted(0.8670305926738396, minval=0.1, maxval=5), Fitted(5.154371160353582, minval=3, maxval=6), 1, Fitted(1.0838805968361944, minval=0.5, maxval=5), Fitted(0.16593273858666632, minval=0.1, maxval=2), Fitted(5.154371160353582, minval=3, maxval=6), Fitted(0.3506873842830429, minval=0, maxval=0.5), Fitted(0.24314046590377206, minval=0, maxval=0.3)]\n"
     ]
    }
   ],
   "source": [
    "for fit_model in fit_models:\n",
    "    save_fitting_results(exp_data, fit_model)"
   ]
  }
 ],
 "metadata": {
  "kernelspec": {
   "display_name": "Python 3",
   "language": "python",
   "name": "python3"
  },
  "language_info": {
   "codemirror_mode": {
    "name": "ipython",
    "version": 3
   },
   "file_extension": ".py",
   "mimetype": "text/x-python",
   "name": "python",
   "nbconvert_exporter": "python",
   "pygments_lexer": "ipython3",
   "version": "3.7.4"
  }
 },
 "nbformat": 4,
 "nbformat_minor": 2
}
