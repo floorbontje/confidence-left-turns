{
 "cells": [
  {
   "cell_type": "code",
   "execution_count": 1,
   "metadata": {},
   "outputs": [],
   "source": [
    "import numpy as np\n",
    "import pandas as pd\n",
    "import matplotlib.pyplot as plt\n",
    "import seaborn as sns\n",
    "from scipy import interpolate, optimize\n",
    "import ddm\n",
    "import ddm.plot\n",
    "import os "
   ]
  },
  {
   "cell_type": "markdown",
   "metadata": {},
   "source": [
    "# Loss function definitions"
   ]
  },
  {
   "cell_type": "code",
   "execution_count": 13,
   "metadata": {},
   "outputs": [],
   "source": [
    "import pandas as pd\n",
    "import ddm\n",
    "import paranoid as pns\n",
    "pns.settings.Settings.set(enabled=False)"
   ]
  },
  {
   "cell_type": "code",
   "execution_count": 26,
   "metadata": {
    "scrolled": true
   },
   "outputs": [
    {
     "data": {
      "text/plain": [
       "array([0.42935857, 0.52304714, 0.57747143, 0.67312143, 0.87070857])"
      ]
     },
     "execution_count": 26,
     "metadata": {},
     "output_type": "execute_result"
    }
   ],
   "source": [
    "exp_sample = ddm.Sample.from_pandas_dataframe(df=exp_data[(exp_data.tta_condition==6) & (exp_data.d_condition==150)], \n",
    "                                              rt_column_name='RT', correct_column_name='is_turn_decision')\n",
    "rts = [[item[0], item[1]['subj_id']] for item in exp_sample.items(correct=True)]\n",
    "rt_quantiles = [0.1, 0.3, 0.5, 0.7, 0.9]\n",
    "comb_rts = pd.DataFrame([[item[0], item[1]['subj_id']] for item in exp_sample.items(correct=True)], \n",
    "                                    columns=['RT', 'subj_id'])\n",
    "\n",
    "comb_rts.groupby('subj_id').apply(lambda group: np.quantile(a=group.RT, q=rt_quantiles)).mean()"
   ]
  },
  {
   "cell_type": "code",
   "execution_count": 16,
   "metadata": {},
   "outputs": [],
   "source": [
    "class LossWLS(ddm.LossFunction):\n",
    "    name = 'Weighted least squares as described in Ratcliff & Tuerlinckx 2002'\n",
    "    rt_quantiles = [0.1, 0.3, 0.5, 0.7, 0.9]\n",
    "    rt_q_weights = [2, 2, 1, 1, 0.5]\n",
    "    exp_data = pd.read_csv('../data/measures.csv', \n",
    "                            usecols=['subj_id', 'RT', 'is_turn_decision', 'tta_condition', 'd_condition'])\n",
    "           \n",
    "    def setup(self, dt, T_dur, **kwargs):\n",
    "        self.dt = dt\n",
    "        self.T_dur = T_dur\n",
    "    \n",
    "    def get_rt_quantiles(self, x, t_domain, exp=False):\n",
    "        cdf = x.cdf_corr(T_dur=self.T_dur, dt=self.dt) if exp else x.cdf_corr()\n",
    "        cdf_interp = interpolate.interp1d(t_domain, cdf/cdf[-1])\n",
    "        # If the model produces very fast RTs, interpolated cdf(0) can be >0.1, then we cannot find root like usual\n",
    "        # In this case, the corresponding rt quantile is half of the time step of cdf\n",
    "        rt_quantile_values = [optimize.root_scalar(lambda x:cdf_interp(x)-quantile, bracket=(0, t_domain[-1])).root\n",
    "                              if (cdf_interp(0)<quantile) else self.dt/2\n",
    "                              for quantile in self.rt_quantiles]\n",
    "        return np.array(rt_quantile_values)\n",
    "    \n",
    "    def loss(self, model):\n",
    "        solultions = self.cache_by_conditions(model)\n",
    "        WLS = 0\n",
    "        for comb in self.sample.condition_combinations(required_conditions=self.required_conditions):\n",
    "            c = frozenset(comb.items())\n",
    "            comb_sample = self.sample.subset(**comb)\n",
    "            self.comb_rts = pd.DataFrame([[item[0], item[1]['subj_id']] for item in exp_sample.items(correct=True)], \n",
    "                                    columns=['RT', 'subj_id'])\n",
    "            \n",
    "            WLS += 4*(solultions[c].prob_correct() - comb_sample.prob_correct())**2            \n",
    "            # Sometimes model p_correct is very close to 0, then RT distribution is weird, in this case ignore RT error \n",
    "            if ((solultions[c].prob_correct()>0.001) & (comb_sample.prob_correct()>0)):\n",
    "#                 self.condition_data = self.exp_data[(self.exp_data.d_condition==comb['d_condition']) \n",
    "#                                                     & (self.exp_data.tta_condition==comb['tta_condition'])]\n",
    "                model_rt_q = self.get_rt_quantiles(solultions[c], model.t_domain(), exp=False)\n",
    "                exp_rt_q = self.get_rt_quantiles(comb_sample, model.t_domain(), exp=True)\n",
    "                WLS += np.dot((model_rt_q-exp_rt_q)**2, self.rt_q_weights)*comb_sample.prob_correct()\n",
    "        return WLS\n",
    "    \n",
    "    \n",
    "class LossWLSVincent(LossWLS):\n",
    "    name = '''Weighted least squares as described in Ratcliff & Tuerlinckx 2002, \n",
    "                fitting to the quantile function vincent-averaged per subject (Ratcliff 1979)'''\n",
    "    \n",
    "    def get_rt_quantiles(self, x, t_domain, exp=False):\n",
    "        if exp:            \n",
    "            subject_quantiles = (self.comb_rts.groupby('subj_id')\n",
    "                                    .apply(lambda group: np.quantile(a=group.RT, q=self.rt_quantiles)))\n",
    "            return subject_quantiles.mean()\n",
    "        else:\n",
    "            return super().get_rt_quantiles(x, t_domain, exp=False)"
   ]
  },
  {
   "cell_type": "code",
   "execution_count": null,
   "metadata": {},
   "outputs": [],
   "source": []
  },
  {
   "cell_type": "markdown",
   "metadata": {},
   "source": [
    "# Helper functions"
   ]
  },
  {
   "cell_type": "code",
   "execution_count": 3,
   "metadata": {},
   "outputs": [],
   "source": [
    "def get_model_measures(model, condition):\n",
    "    sol = model.solve(condition)\n",
    "    return condition['tta_condition'], condition['d_condition'], sol.prob_correct(), sol.mean_decision_time()\n",
    "        \n",
    "def save_fitting_results(exp_data, fit_model, directory):\n",
    "    print(fit_model.name)\n",
    "    print('Loss function value: %.5f' % (fit_model.get_fit_result().value()))\n",
    "    print('Number of parameters: %i' % (len(fit_model.get_model_parameters())-1))\n",
    "    print('Parameter values: ', fit_model.get_model_parameters())\n",
    "    \n",
    "    if not os.path.exists(directory):\n",
    "        os.makedirs(directory)\n",
    "    \n",
    "    conditions = [{'tta_condition': tta, 'd_condition': d} \n",
    "                  for tta in exp_data.tta_condition.unique() \n",
    "                  for d in exp_data.d_condition.unique()]\n",
    "    model_measures = [get_model_measures(fit_model, condition) for condition in conditions]\n",
    "    model_measures = pd.DataFrame(model_measures, columns=['tta_condition', 'd_condition', 'is_turn_decision', 'RT'])\n",
    "    model_measures['loss'] = fit_model.get_fit_result().value()    \n",
    "    model_measures.to_csv(os.path.join(directory, 'measures.csv'), index=False)\n",
    "    \n",
    "    rt_dfs = []\n",
    "    for condition in conditions:\n",
    "        sol = fit_model.solve(condition)\n",
    "        rt_df = pd.DataFrame({'tta_condition': condition['tta_condition'],\n",
    "                              'd_condition':  condition['d_condition'],\n",
    "                              't': fit_model.t_domain(),\n",
    "                              'rt_corr_pdf': sol.pdf_corr()/sol.prob_correct()})\n",
    "        rt_dfs.append(rt_df)\n",
    "    rt_dfs = pd.concat(rt_dfs)\n",
    "    rt_dfs.to_csv(os.path.join(directory, 'rt_pdf.csv'), index=False)"
   ]
  },
  {
   "cell_type": "markdown",
   "metadata": {},
   "source": [
    "# Model definitions"
   ]
  },
  {
   "cell_type": "markdown",
   "metadata": {},
   "source": [
    "Duration of model simulations is set to 2.5 (upper boundary on experimentally observed response times)"
   ]
  },
  {
   "cell_type": "code",
   "execution_count": 4,
   "metadata": {},
   "outputs": [],
   "source": [
    "T_dur = 2.5"
   ]
  },
  {
   "cell_type": "markdown",
   "metadata": {},
   "source": [
    "### Model 1. DDM with TTA-dependent drift "
   ]
  },
  {
   "cell_type": "code",
   "execution_count": 15,
   "metadata": {},
   "outputs": [],
   "source": [
    "class DriftTtaDistance(ddm.models.Drift):\n",
    "    name = 'Drift depends on TTA and distance'\n",
    "    required_parameters = ['alpha', 'tta_crit', 'beta', 'd_crit']\n",
    "    required_conditions = ['tta_condition', 'd_condition'] \n",
    "    \n",
    "    def get_drift(self, t, conditions, **kwargs):\n",
    "        v = conditions['d_condition']/conditions['tta_condition']\n",
    "        return (self.alpha*(conditions['tta_condition'] - t - self.tta_crit + \n",
    "                            self.beta*(conditions['d_condition'] - v*t - self.d_crit)))"
   ]
  },
  {
   "cell_type": "code",
   "execution_count": 16,
   "metadata": {},
   "outputs": [],
   "source": [
    "model_tta_distance_dependent_drift = ddm.Model(name='1 TTA- and d-dependent drift',\n",
    "                                      drift=DriftTtaDistance(alpha=ddm.Fittable(minval=0.1, maxval=3),\n",
    "                                                     tta_crit=ddm.Fittable(minval=3, maxval=6),\n",
    "                                                     beta=ddm.Fittable(minval=0, maxval=1),\n",
    "                                                     d_crit=ddm.Fittable(minval=90, maxval=150)),\n",
    "                                      noise=ddm.NoiseConstant(noise=1),\n",
    "                                      bound=ddm.BoundConstant(B=ddm.Fittable(minval=.1, maxval=3.0)),\n",
    "                                      T_dur=T_dur)"
   ]
  },
  {
   "cell_type": "code",
   "execution_count": 17,
   "metadata": {},
   "outputs": [
    {
     "data": {
      "text/plain": [
       "[Fittable(minval=0.1, maxval=3),\n",
       " Fittable(minval=3, maxval=6),\n",
       " Fittable(minval=0, maxval=1),\n",
       " Fittable(minval=90, maxval=150),\n",
       " 1,\n",
       " Fittable(minval=0.1, maxval=3.0)]"
      ]
     },
     "execution_count": 17,
     "metadata": {},
     "output_type": "execute_result"
    }
   ],
   "source": [
    "model_tta_distance_dependent_drift.get_model_parameters()"
   ]
  },
  {
   "cell_type": "markdown",
   "metadata": {},
   "source": [
    "### Model 2. Model 1 + nondecision time"
   ]
  },
  {
   "cell_type": "code",
   "execution_count": 33,
   "metadata": {},
   "outputs": [],
   "source": [
    "model_nondecision_time_fixed = ddm.Model(name='2 TTA- and d-dependent drift and fixed nondecision time',\n",
    "                                      drift=DriftTtaDistance(alpha=ddm.Fittable(minval=0.1, maxval=3),\n",
    "                                                     tta_crit=ddm.Fittable(minval=3, maxval=6),\n",
    "                                                     beta=ddm.Fittable(minval=0, maxval=1),\n",
    "                                                     d_crit=ddm.Fittable(minval=90, maxval=150)),\n",
    "                                      noise=ddm.NoiseConstant(noise=1),\n",
    "                                      bound=ddm.BoundConstant(B=ddm.Fittable(minval=.1, maxval=3.0)),\n",
    "                                      overlay=ddm.OverlayNonDecision(nondectime=ddm.Fittable(minval=0, maxval=0.5)),\n",
    "                                      T_dur=T_dur)"
   ]
  },
  {
   "cell_type": "markdown",
   "metadata": {},
   "source": [
    "### Model 3. Model 2 + nondecision time variability"
   ]
  },
  {
   "cell_type": "code",
   "execution_count": 34,
   "metadata": {},
   "outputs": [],
   "source": [
    "model_nondecision_time_variable = ddm.Model(name='3 TTA- and d-dependent drift and uniformly distributed nondecision time',\n",
    "                                     drift=DriftTtaDistance(alpha=ddm.Fittable(minval=0.1, maxval=3),\n",
    "                                                     tta_crit=ddm.Fittable(minval=3, maxval=6),\n",
    "                                                     beta=ddm.Fittable(minval=0, maxval=1),\n",
    "                                                     d_crit=ddm.Fittable(minval=90, maxval=150)),\n",
    "                                     noise=ddm.NoiseConstant(noise=1),\n",
    "                                     bound=ddm.BoundConstant(B=ddm.Fittable(minval=.1, maxval=3.0)),\n",
    "                                     overlay=ddm.OverlayNonDecisionUniform(nondectime=ddm.Fittable(minval=0, maxval=0.5),\n",
    "                                                                           halfwidth=ddm.Fittable(minval=0, maxval=0.3)),\n",
    "                                     T_dur=T_dur)"
   ]
  },
  {
   "cell_type": "markdown",
   "metadata": {},
   "source": [
    "### Model 4. Model 3 + collapsing bounds"
   ]
  },
  {
   "cell_type": "code",
   "execution_count": 35,
   "metadata": {},
   "outputs": [],
   "source": [
    "model_collapsing_bounds = ddm.Model(name='4 TTA- and d-dependent drift and uniformly distributed nondecision time and exponentially collapsing bounds',\n",
    "                                    drift=DriftTtaDistance(alpha=ddm.Fittable(minval=0.1, maxval=3),\n",
    "                                                     tta_crit=ddm.Fittable(minval=3, maxval=6),\n",
    "                                                     beta=ddm.Fittable(minval=0, maxval=1),\n",
    "                                                     d_crit=ddm.Fittable(minval=90, maxval=150)),\n",
    "                                    noise=ddm.NoiseConstant(noise=1),\n",
    "                                    bound=ddm.BoundCollapsingExponential(B=ddm.Fittable(minval=0.5, maxval=5), \n",
    "                                                                         tau=ddm.Fittable(minval=0.5, maxval=5)),\n",
    "                                    overlay=ddm.OverlayNonDecisionUniform(nondectime=ddm.Fittable(minval=0, maxval=0.5),\n",
    "                                                                          halfwidth=ddm.Fittable(minval=0, maxval=0.3)),\n",
    "                                    T_dur=T_dur)"
   ]
  },
  {
   "cell_type": "markdown",
   "metadata": {},
   "source": [
    "### Model 5. Model 3 + TTA-dependent bounds"
   ]
  },
  {
   "cell_type": "code",
   "execution_count": 59,
   "metadata": {},
   "outputs": [],
   "source": [
    "def plot_b_vs_tau(b_0, k, tta_crit, tta_0, ax):\n",
    "    tau = np.linspace(3, 7)   \n",
    "    b = lambda tau: b_0/(1+np.exp(-k*(tau-tta_crit)))\n",
    "\n",
    "    ax.plot(tau, b(tau))    \n",
    "    ax.set_xlabel(r'$\\tau$')\n",
    "    ax.set_ylabel('boundary')\n",
    "    ax.set_ylim((0, max(b(tau))))\n",
    "    ax.axvline(tta_crit, color='grey', ls='--')\n",
    "    ax.set_title(r'$b = b_0/(1+e^{-k(\\tau-\\tau_{crit})})$')\n",
    "    ax.text(x=tta_crit, y=min(b(tau)), s=r'$\\tau_{crit}=%.2f$' % (tta_crit), fontsize=14);"
   ]
  },
  {
   "cell_type": "code",
   "execution_count": 60,
   "metadata": {
    "scrolled": true
   },
   "outputs": [
    {
     "data": {
      "image/png": "[encoded data removed]",
      "text/plain": [
       "<Figure size 432x288 with 1 Axes>"
      ]
     },
     "metadata": {
      "needs_background": "light"
     },
     "output_type": "display_data"
    }
   ],
   "source": [
    "fig, ax = plt.subplots()\n",
    "plot_b_vs_tau(0.88, 0.105, 5.89, 5, ax)\n",
    "plot_b_vs_tau(0.8, 0.117, 3.63, 5, ax)"
   ]
  },
  {
   "cell_type": "code",
   "execution_count": 61,
   "metadata": {},
   "outputs": [],
   "source": [
    "def plot_b_vs_t(b_0, k, tta_crit, tta_0, ax):\n",
    "    t = np.linspace(0, 2.5)    \n",
    "    tau = tta_0 - t       \n",
    "    b = lambda tau: b_0/(1+np.exp(-k*(tau-tta_crit)))\n",
    "    \n",
    "    ax.plot(t, b(tau))    \n",
    "    ax.set_xlabel(r'$t$')\n",
    "    ax.set_ylabel('boundary (in units of $b_0$)')\n",
    "    ax.set_ylim((0, max(b(tau))))"
   ]
  },
  {
   "cell_type": "code",
   "execution_count": 68,
   "metadata": {},
   "outputs": [
    {
     "data": {
      "image/png": "[encoded data removed]",
      "text/plain": [
       "<Figure size 432x288 with 1 Axes>"
      ]
     },
     "metadata": {
      "needs_background": "light"
     },
     "output_type": "display_data"
    }
   ],
   "source": [
    "fig, ax = plt.subplots()\n",
    "plot_b_vs_t(0.88, 0.105, 5.89, 4, ax)\n",
    "plot_b_vs_t(0.88, 0.105, 5.89, 6, ax)\n",
    "plot_b_vs_t(0.8, 0.117, 3.63, 4, ax)\n",
    "plot_b_vs_t(0.8, 0.117, 3.63, 6, ax)"
   ]
  },
  {
   "cell_type": "code",
   "execution_count": 18,
   "metadata": {},
   "outputs": [],
   "source": [
    "class BoundCollapsingTta(ddm.models.Bound):\n",
    "    name = 'Bounds collapsing with TTA'\n",
    "    required_parameters = ['b_0', 'k', 'tta_crit']\n",
    "    required_conditions = ['tta_condition'] \n",
    "    def get_bound(self, t, conditions, **kwargs):\n",
    "        tau = conditions['tta_condition'] - t\n",
    "        return self.b_0/(1+np.exp(-self.k*(tau-self.tta_crit)))\n",
    "\n",
    "param_names = ['alpha', 'tta_crit', 'beta', 'd_crit', 'noise', 'b_0', 'k', 'tta_crit', 'nondectime', 'halfwidth']\n",
    "tta_crit = ddm.Fittable(minval=3, maxval=6)\n",
    "    \n",
    "model_TTA_bounds = ddm.Model(name='5 TTA- and d-dependent drift and bounds and uniformly distributed nondecision time',\n",
    "                             drift=DriftTtaDistance(alpha=ddm.Fittable(minval=0.1, maxval=3),\n",
    "                                                     tta_crit=tta_crit,\n",
    "                                                     beta=ddm.Fittable(minval=0, maxval=1),\n",
    "                                                     d_crit=ddm.Fittable(minval=90, maxval=150)),\n",
    "                             noise=ddm.NoiseConstant(noise=1),\n",
    "                             bound=BoundCollapsingTta(b_0=ddm.Fittable(minval=0.5, maxval=5), \n",
    "                                                      k=ddm.Fittable(minval=0.1, maxval=2),\n",
    "                                                      tta_crit=tta_crit),\n",
    "                             overlay=ddm.OverlayNonDecisionUniform(nondectime=ddm.Fittable(minval=0, maxval=0.5),\n",
    "                                                                   halfwidth=ddm.Fittable(minval=0, maxval=0.3)),\n",
    "                             T_dur=T_dur)"
   ]
  },
  {
   "cell_type": "markdown",
   "metadata": {},
   "source": [
    "# Model fitting to aggregate data"
   ]
  },
  {
   "cell_type": "markdown",
   "metadata": {},
   "source": [
    "Reading experimental data"
   ]
  },
  {
   "cell_type": "code",
   "execution_count": 3,
   "metadata": {},
   "outputs": [],
   "source": [
    "exp_data = pd.read_csv('../data/measures.csv', usecols=['subj_id', 'RT', 'is_turn_decision', 'tta_condition', 'd_condition'])\n",
    "exp_sample = ddm.Sample.from_pandas_dataframe(df=exp_data, rt_column_name='RT', correct_column_name='is_turn_decision')"
   ]
  },
  {
   "cell_type": "code",
   "execution_count": null,
   "metadata": {
    "scrolled": true
   },
   "outputs": [],
   "source": [
    "models = [\n",
    "          model_tta_distance_dependent_drift, \n",
    "          model_nondecision_time_fixed, \n",
    "          model_nondecision_time_variable,\n",
    "          model_collapsing_bounds, \n",
    "          model_TTA_bounds\n",
    "         ]\n",
    "\n",
    "fit_models = []\n",
    "for model in models:\n",
    "    print(model.name)\n",
    "    directory = '../model_fit_results/tta_and_d/%s/group' % (model.name.lower().replace(' ', '_'))\n",
    "    fit_model = ddm.fit_adjust_model(sample=exp_sample, model=model)#, lossfunction=LossWLS)\n",
    "    save_fitting_results(exp_data, fit_model, directory)\n",
    "    fit_models.append(fit_model)"
   ]
  },
  {
   "cell_type": "code",
   "execution_count": null,
   "metadata": {
    "scrolled": false
   },
   "outputs": [],
   "source": [
    "for fit_model in fit_models:\n",
    "    directory = '../model_fit_results/tta_and_d/%s/group' % (model.name.lower().replace(' ', '_'))\n",
    "    save_fitting_results(exp_data, fit_model, directory)"
   ]
  },
  {
   "cell_type": "markdown",
   "metadata": {},
   "source": [
    "# Model fitting to individual drivers' data"
   ]
  },
  {
   "cell_type": "code",
   "execution_count": 8,
   "metadata": {},
   "outputs": [],
   "source": [
    "exp_data = pd.read_csv('measures.csv', usecols=['subj_id', 'RT', 'is_turn_decision', 'tta_condition', 'd_condition'])"
   ]
  },
  {
   "cell_type": "code",
   "execution_count": null,
   "metadata": {
    "scrolled": true
   },
   "outputs": [],
   "source": [
    "subjects = exp_data.subj_id.unique()\n",
    "\n",
    "models = [\n",
    "          model_tta_distance_dependent_drift, \n",
    "          model_nondecision_time_fixed, \n",
    "          model_nondecision_time_variable,\n",
    "          model_collapsing_bounds, \n",
    "          model_TTA_bounds\n",
    "         ]\n",
    "\n",
    "for subject in subjects:\n",
    "    print('Subject %i' % (subject))\n",
    "    exp_sample = ddm.Sample.from_pandas_dataframe(df=exp_data[exp_data.subj_id==subject], \n",
    "                                                  rt_column_name='RT', correct_column_name='is_turn_decision')\n",
    "    fit_models = []\n",
    "    for model in models:\n",
    "        print(model.name)\n",
    "        directory = 'model_fit_results/tta_and_d/%s/%i' % (model.name.lower().replace(' ', '_'), subject)\n",
    "        fit_model = ddm.fit_adjust_model(sample=exp_sample, model=model, lossfunction=LossWLS)\n",
    "        save_fitting_results(exp_data, fit_model, directory)\n",
    "        fit_models.append(fit_model)"
   ]
  }
 ],
 "metadata": {
  "kernelspec": {
   "display_name": "Python 3",
   "language": "python",
   "name": "python3"
  },
  "language_info": {
   "codemirror_mode": {
    "name": "ipython",
    "version": 3
   },
   "file_extension": ".py",
   "mimetype": "text/x-python",
   "name": "python",
   "nbconvert_exporter": "python",
   "pygments_lexer": "ipython3",
   "version": "3.6.6"
  }
 },
 "nbformat": 4,
 "nbformat_minor": 2
}
