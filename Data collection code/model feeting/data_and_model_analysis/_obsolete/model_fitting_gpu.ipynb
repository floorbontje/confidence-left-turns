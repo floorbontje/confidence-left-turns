{
 "cells": [
  {
   "cell_type": "code",
   "execution_count": 1,
   "metadata": {},
   "outputs": [],
   "source": [
    "import numpy as np\n",
    "import pandas as pd\n",
    "import matplotlib.pyplot as plt\n",
    "import seaborn as sns\n",
    "from scipy import interpolate, optimize\n",
    "import ddm\n",
    "import os \n",
    "import csv\n",
    "import tensorflow as tf\n",
    "import tensorflow_probability.python as tfp\n",
    "from helper import Helper\n",
    "from model_definitions import ModelTtaBounds, LossWLS\n",
    "\n",
    "gpus = tf.config.experimental.list_physical_devices('GPU')\n",
    "tf.config.experimental.set_virtual_device_configuration(gpus[0], \n",
    "                                                    [tf.config.experimental.VirtualDeviceConfiguration(memory_limit=4096)])"
   ]
  },
  {
   "cell_type": "code",
   "execution_count": 2,
   "metadata": {},
   "outputs": [],
   "source": [
    "def differential_evolution_tf(fitness, x_0, constraints):   \n",
    "    def tensor_fitness(x_population):\n",
    "        result = [fitness(x) for x in x_population]\n",
    "        return tf.constant(result)\n",
    "\n",
    "    tfp_result = tfp.optimizer.differential_evolution_minimize(tensor_fitness, \n",
    "                                                              initial_position=tf.constant(x_0),\n",
    "                                                              max_iterations=400)    \n",
    "    \n",
    "    return optimize.OptimizeResult(x=[p.numpy() for p in tfp_result.position],\n",
    "                             fun=tfp_result.objective_value.numpy(), \n",
    "                             nit=tfp_result.num_iterations.numpy(),\n",
    "                             success=tfp_result.converged.numpy())"
   ]
  },
  {
   "cell_type": "code",
   "execution_count": null,
   "metadata": {
    "scrolled": true
   },
   "outputs": [],
   "source": [
    "model = ModelTtaBounds()\n",
    "exp_data = pd.read_csv('../data/measures.csv', usecols=['subj_id', 'RT', 'is_turn_decision', \n",
    "                                                        'tta_condition', 'd_condition'])\n",
    "subjects = exp_data.subj_id.unique()\n",
    "conditions = [{'tta': tta, 'd': d} \n",
    "                  for tta in exp_data.tta_condition.unique() \n",
    "                  for d in exp_data.d_condition.unique()]\n",
    "\n",
    "directory = '../model_fit_results/cross-validation'\n",
    "Helper.write_to_csv(directory, 'model_%s_params_gpu.csv' % (model.model.name[0]), \n",
    "             ['subj_id', 'tta', 'd', 'loss'] + model.param_names)\n",
    "\n",
    "subj_id = subjects[0]\n",
    "condition = conditions[0]\n",
    "fitted_model = Helper.fit_model(model.model, exp_data, subj_id, condition, lossfunction=LossWLS, \n",
    "                                      fitting_method=differential_evolution_tf)\n",
    "Helper.write_to_csv(directory, 'model_%s_params_gpu.csv' % (model.model.name[0]), \n",
    "             [subj_id, condition['tta'], condition['d'], fit_model.get_fit_result().value()] \n",
    "             + fit_model.get_model_parameters())"
   ]
  }
 ],
 "metadata": {
  "kernelspec": {
   "display_name": "Python 3",
   "language": "python",
   "name": "python3"
  },
  "language_info": {
   "codemirror_mode": {
    "name": "ipython",
    "version": 3
   },
   "file_extension": ".py",
   "mimetype": "text/x-python",
   "name": "python",
   "nbconvert_exporter": "python",
   "pygments_lexer": "ipython3",
   "version": "3.6.6"
  }
 },
 "nbformat": 4,
 "nbformat_minor": 2
}
