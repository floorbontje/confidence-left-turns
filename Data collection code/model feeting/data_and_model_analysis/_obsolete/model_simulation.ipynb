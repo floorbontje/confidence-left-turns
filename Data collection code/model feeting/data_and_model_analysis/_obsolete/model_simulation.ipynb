{
 "cells": [
  {
   "cell_type": "code",
   "execution_count": 76,
   "metadata": {},
   "outputs": [],
   "source": [
    "import numpy as np\n",
    "import pandas as pd\n",
    "import matplotlib.pyplot as plt\n",
    "import seaborn as sns\n",
    "import ddm\n",
    "import os \n",
    "import csv\n",
    "import helper\n",
    "from model_definitions import ModelTtaBounds"
   ]
  },
  {
   "cell_type": "code",
   "execution_count": 77,
   "metadata": {
    "scrolled": true
   },
   "outputs": [
    {
     "name": "stdout",
     "output_type": "stream",
     "text": [
      "../model_fit_results/cross_validation_9\\subj_129.csv\n",
      "../model_fit_results/cross_validation_9\\subj_389.csv\n",
      "../model_fit_results/cross_validation_9\\subj_525.csv\n",
      "../model_fit_results/cross_validation_9\\subj_616.csv\n",
      "../model_fit_results/cross_validation_9\\subj_618.csv\n",
      "../model_fit_results/cross_validation_9\\subj_642.csv\n",
      "../model_fit_results/cross_validation_9\\subj_755.csv\n",
      "../model_fit_results/cross_validation_9\\subj_all.csv\n",
      "../model_fit_results/cross_validation_8\\subj_129.csv\n",
      "../model_fit_results/cross_validation_8\\subj_389.csv\n",
      "../model_fit_results/cross_validation_8\\subj_525.csv\n",
      "../model_fit_results/cross_validation_8\\subj_616.csv\n",
      "../model_fit_results/cross_validation_8\\subj_618.csv\n",
      "../model_fit_results/cross_validation_8\\subj_642.csv\n",
      "../model_fit_results/cross_validation_8\\subj_755.csv\n",
      "../model_fit_results/cross_validation_8\\subj_all.csv\n",
      "../model_fit_results/cross_validation_4\\subj_129.csv\n",
      "../model_fit_results/cross_validation_4\\subj_389.csv\n",
      "../model_fit_results/cross_validation_4\\subj_525.csv\n",
      "../model_fit_results/cross_validation_4\\subj_616.csv\n",
      "../model_fit_results/cross_validation_4\\subj_618.csv\n",
      "../model_fit_results/cross_validation_4\\subj_642.csv\n",
      "../model_fit_results/cross_validation_4\\subj_755.csv\n",
      "../model_fit_results/cross_validation_4\\subj_all.csv\n"
     ]
    }
   ],
   "source": [
    "for folder in ['cross_validation_9', 'cross_validation_8', 'cross_validation_4']:\n",
    "    helper.merge_csv('../model_fit_results/%s' % (folder))"
   ]
  },
  {
   "cell_type": "code",
   "execution_count": 78,
   "metadata": {},
   "outputs": [],
   "source": [
    "def get_model_measures(model, condition):\n",
    "    sol = model.solve(condition)\n",
    "    return(condition['tta_condition'], condition['d_condition'], sol.prob_correct(), sol.mean_decision_time())\n",
    "\n",
    "def get_model_rt_distr(model, condition, kind='cdf'):\n",
    "    sol = model.solve(condition)\n",
    "    return(pd.DataFrame({'tta_condition': condition['tta_condition'],\n",
    "                         'd_condition':  condition['d_condition'],\n",
    "                         't': model.t_domain(),\n",
    "                         'rt_corr_distr': (sol.cdf_corr() if kind=='cdf' else sol.pdf_corr())/sol.prob_correct()}))\n",
    "\n",
    "def initialize_model(param_set):\n",
    "    overlay = ModelTtaBounds.OverlayNonDecisionGaussian(nondectime=param_set.ndt_location, ndsigma=param_set.ndt_scale)\n",
    "    model = ddm.Model(name='TTA- and d-dependent drift and bounds and random nondecision time',\n",
    "                         drift=ModelTtaBounds.DriftTtaDistance(alpha=param_set.alpha, \n",
    "                                                               beta=param_set.beta, theta=param_set.theta),\n",
    "                         noise=ddm.NoiseConstant(noise=param_set.noise),\n",
    "                         bound=ModelTtaBounds.BoundCollapsingTta(b_0=param_set.b_0, \n",
    "                                                                 k=param_set.k, tta_crit=param_set.tta_crit),\n",
    "                         overlay=overlay, T_dur=ModelTtaBounds.T_dur)\n",
    "    return(model)\n",
    "\n",
    "def simulate_model(param_set, conditions, ret='measures'): \n",
    "    model = initialize_model(param_set)\n",
    "    if ret=='measures':\n",
    "        sim_result = pd.DataFrame([get_model_measures(model, condition) for condition in conditions],\n",
    "                                  columns=['tta_condition', 'd_condition', 'is_turn_decision', 'RT'])\n",
    "    else:\n",
    "        sim_result = pd.concat([get_model_rt_distr(model, condition, kind=ret[-3:]) for condition in conditions])\n",
    "    sim_result['subj_id'] = param_set.subj_id\n",
    "    return sim_result"
   ]
  },
  {
   "cell_type": "code",
   "execution_count": 82,
   "metadata": {},
   "outputs": [],
   "source": [
    "def save_sim_results(file_name, conditions=None, ret='measures'):\n",
    "    path = '../model_fit_results/'\n",
    "    file_path = os.path.join(path, file_name)\n",
    "    parameters = pd.read_csv(file_path).rename(columns={'tta': 'tta_condition', 'd': 'd_condition'})\n",
    "    \n",
    "    if ret=='measures':\n",
    "        if '9' in file_name:\n",
    "            sim_results = [simulate_model(param_set, conditions, ret='measures') \n",
    "                                  for idx, param_set in parameters.iterrows()]\n",
    "        else:\n",
    "            sim_results = [simulate_model(param_set, [param_set[['tta_condition', 'd_condition']].to_dict()]) \n",
    "                               for idx, param_set in parameters.iterrows()]\n",
    "            sim_results = pd.concat(sim_results)\n",
    "        sim_results.to_csv(file_path.replace('parameters_fitted', 'measures'), index=False)\n",
    "    else:\n",
    "        sim_results = [simulate_model(param_set, conditions, ret=ret) for idx, param_set in parameters.iterrows()]\n",
    "        sim_results = pd.concat(sim_results)\n",
    "        sim_results.to_csv(file_path.replace('parameters_fitted', ret), index=False)\n",
    "    return sim_results"
   ]
  },
  {
   "cell_type": "code",
   "execution_count": 80,
   "metadata": {},
   "outputs": [],
   "source": [
    "conditions = [{'tta_condition': tta, 'd_condition': d} \n",
    "                       for tta in np.linspace(2,8,13)\n",
    "                       for d in np.linspace(60,180,25)]"
   ]
  },
  {
   "cell_type": "code",
   "execution_count": null,
   "metadata": {
    "scrolled": true
   },
   "outputs": [],
   "source": [
    "save_sim_results('cross_validation_9_parameters_fitted.csv', conditions, ret='rt_cdf')"
   ]
  },
  {
   "cell_type": "code",
   "execution_count": 84,
   "metadata": {},
   "outputs": [
    {
     "data": {
      "text/html": [
       "<div>\n",
       "<style scoped>\n",
       "    .dataframe tbody tr th:only-of-type {\n",
       "        vertical-align: middle;\n",
       "    }\n",
       "\n",
       "    .dataframe tbody tr th {\n",
       "        vertical-align: top;\n",
       "    }\n",
       "\n",
       "    .dataframe thead th {\n",
       "        text-align: right;\n",
       "    }\n",
       "</style>\n",
       "<table border=\"1\" class=\"dataframe\">\n",
       "  <thead>\n",
       "    <tr style=\"text-align: right;\">\n",
       "      <th></th>\n",
       "      <th>tta_condition</th>\n",
       "      <th>d_condition</th>\n",
       "      <th>t</th>\n",
       "      <th>rt_corr_distr</th>\n",
       "      <th>subj_id</th>\n",
       "    </tr>\n",
       "  </thead>\n",
       "  <tbody>\n",
       "    <tr>\n",
       "      <th>0</th>\n",
       "      <td>2.0</td>\n",
       "      <td>60.0</td>\n",
       "      <td>0.000</td>\n",
       "      <td>3.511878e-18</td>\n",
       "      <td>129</td>\n",
       "    </tr>\n",
       "    <tr>\n",
       "      <th>1</th>\n",
       "      <td>2.0</td>\n",
       "      <td>60.0</td>\n",
       "      <td>0.005</td>\n",
       "      <td>1.031075e-17</td>\n",
       "      <td>129</td>\n",
       "    </tr>\n",
       "    <tr>\n",
       "      <th>2</th>\n",
       "      <td>2.0</td>\n",
       "      <td>60.0</td>\n",
       "      <td>0.010</td>\n",
       "      <td>2.984869e-17</td>\n",
       "      <td>129</td>\n",
       "    </tr>\n",
       "    <tr>\n",
       "      <th>3</th>\n",
       "      <td>2.0</td>\n",
       "      <td>60.0</td>\n",
       "      <td>0.015</td>\n",
       "      <td>8.520132e-17</td>\n",
       "      <td>129</td>\n",
       "    </tr>\n",
       "    <tr>\n",
       "      <th>4</th>\n",
       "      <td>2.0</td>\n",
       "      <td>60.0</td>\n",
       "      <td>0.020</td>\n",
       "      <td>2.398032e-16</td>\n",
       "      <td>129</td>\n",
       "    </tr>\n",
       "    <tr>\n",
       "      <th>...</th>\n",
       "      <td>...</td>\n",
       "      <td>...</td>\n",
       "      <td>...</td>\n",
       "      <td>...</td>\n",
       "      <td>...</td>\n",
       "    </tr>\n",
       "    <tr>\n",
       "      <th>496</th>\n",
       "      <td>8.0</td>\n",
       "      <td>180.0</td>\n",
       "      <td>2.480</td>\n",
       "      <td>3.101070e-121</td>\n",
       "      <td>all</td>\n",
       "    </tr>\n",
       "    <tr>\n",
       "      <th>497</th>\n",
       "      <td>8.0</td>\n",
       "      <td>180.0</td>\n",
       "      <td>2.485</td>\n",
       "      <td>5.336309e-122</td>\n",
       "      <td>all</td>\n",
       "    </tr>\n",
       "    <tr>\n",
       "      <th>498</th>\n",
       "      <td>8.0</td>\n",
       "      <td>180.0</td>\n",
       "      <td>2.490</td>\n",
       "      <td>9.130099e-123</td>\n",
       "      <td>all</td>\n",
       "    </tr>\n",
       "    <tr>\n",
       "      <th>499</th>\n",
       "      <td>8.0</td>\n",
       "      <td>180.0</td>\n",
       "      <td>2.495</td>\n",
       "      <td>1.553156e-123</td>\n",
       "      <td>all</td>\n",
       "    </tr>\n",
       "    <tr>\n",
       "      <th>500</th>\n",
       "      <td>8.0</td>\n",
       "      <td>180.0</td>\n",
       "      <td>2.500</td>\n",
       "      <td>2.627000e-124</td>\n",
       "      <td>all</td>\n",
       "    </tr>\n",
       "  </tbody>\n",
       "</table>\n",
       "<p>1302600 rows × 5 columns</p>\n",
       "</div>"
      ],
      "text/plain": [
       "     tta_condition  d_condition      t  rt_corr_distr subj_id\n",
       "0              2.0         60.0  0.000   3.511878e-18     129\n",
       "1              2.0         60.0  0.005   1.031075e-17     129\n",
       "2              2.0         60.0  0.010   2.984869e-17     129\n",
       "3              2.0         60.0  0.015   8.520132e-17     129\n",
       "4              2.0         60.0  0.020   2.398032e-16     129\n",
       "..             ...          ...    ...            ...     ...\n",
       "496            8.0        180.0  2.480  3.101070e-121     all\n",
       "497            8.0        180.0  2.485  5.336309e-122     all\n",
       "498            8.0        180.0  2.490  9.130099e-123     all\n",
       "499            8.0        180.0  2.495  1.553156e-123     all\n",
       "500            8.0        180.0  2.500  2.627000e-124     all\n",
       "\n",
       "[1302600 rows x 5 columns]"
      ]
     },
     "execution_count": 84,
     "metadata": {},
     "output_type": "execute_result"
    }
   ],
   "source": [
    "save_sim_results('cross_validation_9_parameters_fitted.csv', conditions, ret='rt_pdf')"
   ]
  },
  {
   "cell_type": "code",
   "execution_count": 85,
   "metadata": {},
   "outputs": [
    {
     "ename": "AttributeError",
     "evalue": "'list' object has no attribute 'to_csv'",
     "output_type": "error",
     "traceback": [
      "\u001b[1;31m---------------------------------------------------------------------------\u001b[0m",
      "\u001b[1;31mAttributeError\u001b[0m                            Traceback (most recent call last)",
      "\u001b[1;32m<ipython-input-85-c8318ce02f2e>\u001b[0m in \u001b[0;36m<module>\u001b[1;34m\u001b[0m\n\u001b[1;32m----> 1\u001b[1;33m \u001b[0msave_sim_results\u001b[0m\u001b[1;33m(\u001b[0m\u001b[1;34m'cross_validation_9_parameters_fitted.csv'\u001b[0m\u001b[1;33m,\u001b[0m \u001b[0mconditions\u001b[0m\u001b[1;33m,\u001b[0m \u001b[0mret\u001b[0m\u001b[1;33m=\u001b[0m\u001b[1;34m'measures'\u001b[0m\u001b[1;33m)\u001b[0m\u001b[1;33m\u001b[0m\u001b[1;33m\u001b[0m\u001b[0m\n\u001b[0m",
      "\u001b[1;32m<ipython-input-82-9021b9b54fa3>\u001b[0m in \u001b[0;36msave_sim_results\u001b[1;34m(file_name, conditions, ret)\u001b[0m\n\u001b[0;32m     12\u001b[0m                                for idx, param_set in parameters.iterrows()]\n\u001b[0;32m     13\u001b[0m             \u001b[0msim_results\u001b[0m \u001b[1;33m=\u001b[0m \u001b[0mpd\u001b[0m\u001b[1;33m.\u001b[0m\u001b[0mconcat\u001b[0m\u001b[1;33m(\u001b[0m\u001b[0msim_results\u001b[0m\u001b[1;33m)\u001b[0m\u001b[1;33m\u001b[0m\u001b[1;33m\u001b[0m\u001b[0m\n\u001b[1;32m---> 14\u001b[1;33m         \u001b[0msim_results\u001b[0m\u001b[1;33m.\u001b[0m\u001b[0mto_csv\u001b[0m\u001b[1;33m(\u001b[0m\u001b[0mfile_path\u001b[0m\u001b[1;33m.\u001b[0m\u001b[0mreplace\u001b[0m\u001b[1;33m(\u001b[0m\u001b[1;34m'parameters_fitted'\u001b[0m\u001b[1;33m,\u001b[0m \u001b[1;34m'measures'\u001b[0m\u001b[1;33m)\u001b[0m\u001b[1;33m,\u001b[0m \u001b[0mindex\u001b[0m\u001b[1;33m=\u001b[0m\u001b[1;32mFalse\u001b[0m\u001b[1;33m)\u001b[0m\u001b[1;33m\u001b[0m\u001b[1;33m\u001b[0m\u001b[0m\n\u001b[0m\u001b[0;32m     15\u001b[0m     \u001b[1;32melse\u001b[0m\u001b[1;33m:\u001b[0m\u001b[1;33m\u001b[0m\u001b[1;33m\u001b[0m\u001b[0m\n\u001b[0;32m     16\u001b[0m         \u001b[0msim_results\u001b[0m \u001b[1;33m=\u001b[0m \u001b[1;33m[\u001b[0m\u001b[0msimulate_model\u001b[0m\u001b[1;33m(\u001b[0m\u001b[0mparam_set\u001b[0m\u001b[1;33m,\u001b[0m \u001b[0mconditions\u001b[0m\u001b[1;33m,\u001b[0m \u001b[0mret\u001b[0m\u001b[1;33m=\u001b[0m\u001b[0mret\u001b[0m\u001b[1;33m)\u001b[0m \u001b[1;32mfor\u001b[0m \u001b[0midx\u001b[0m\u001b[1;33m,\u001b[0m \u001b[0mparam_set\u001b[0m \u001b[1;32min\u001b[0m \u001b[0mparameters\u001b[0m\u001b[1;33m.\u001b[0m\u001b[0miterrows\u001b[0m\u001b[1;33m(\u001b[0m\u001b[1;33m)\u001b[0m\u001b[1;33m]\u001b[0m\u001b[1;33m\u001b[0m\u001b[1;33m\u001b[0m\u001b[0m\n",
      "\u001b[1;31mAttributeError\u001b[0m: 'list' object has no attribute 'to_csv'"
     ]
    }
   ],
   "source": [
    "save_sim_results('cross_validation_9_parameters_fitted.csv', conditions, ret='measures')"
   ]
  },
  {
   "cell_type": "markdown",
   "metadata": {},
   "source": [
    "## Simulating for cross-validation"
   ]
  },
  {
   "cell_type": "code",
   "execution_count": 18,
   "metadata": {},
   "outputs": [],
   "source": [
    "conditions = [{'tta_condition': tta, 'd_condition': d} \n",
    "                       for tta in [4,5,6]\n",
    "                       for d in [90,120,150]]"
   ]
  },
  {
   "cell_type": "code",
   "execution_count": null,
   "metadata": {
    "scrolled": true
   },
   "outputs": [],
   "source": [
    "save_sim_results('cross_validation_8_parameters_fitted.csv', conditions, ret='measures')"
   ]
  },
  {
   "cell_type": "code",
   "execution_count": null,
   "metadata": {
    "scrolled": true
   },
   "outputs": [],
   "source": [
    "save_sim_results('cross_validation_4_parameters_fitted.csv', conditions, ret='measures')"
   ]
  },
  {
   "cell_type": "markdown",
   "metadata": {},
   "source": [
    "# Extracting mean RT per condition"
   ]
  },
  {
   "cell_type": "code",
   "execution_count": 42,
   "metadata": {},
   "outputs": [],
   "source": [
    "conditions = [{'tta_condition': 4, 'd_condition': 150}]\n",
    "subj_id = 'all'\n",
    "condition = conditions[0]"
   ]
  },
  {
   "cell_type": "markdown",
   "metadata": {},
   "source": [
    "### Data"
   ]
  },
  {
   "cell_type": "code",
   "execution_count": 75,
   "metadata": {},
   "outputs": [
    {
     "data": {
      "text/plain": [
       "0.5263569217687075"
      ]
     },
     "execution_count": 75,
     "metadata": {},
     "output_type": "execute_result"
    }
   ],
   "source": [
    "exp_data = pd.read_csv('../data/measures.csv')\n",
    "between_subj_mean = exp_data[(exp_data.is_turn_decision)].groupby(['subj_id', 'tta_condition', 'd_condition']).mean()\n",
    "exp_measures = between_subj_mean.reset_index()\n",
    "exp_measures[(exp_measures.d_condition==condition['d_condition']) & \n",
    "             (exp_measures.tta_condition==condition['tta_condition'])].RT.mean()"
   ]
  },
  {
   "cell_type": "markdown",
   "metadata": {},
   "source": [
    "### Model measures"
   ]
  },
  {
   "cell_type": "code",
   "execution_count": 66,
   "metadata": {},
   "outputs": [
    {
     "data": {
      "text/plain": [
       "0.5961530683610117"
      ]
     },
     "execution_count": 66,
     "metadata": {},
     "output_type": "execute_result"
    }
   ],
   "source": [
    "fit_results_path = '../model_fit_results'\n",
    "model_measures = pd.read_csv(os.path.join(fit_results_path, 'cross_validation_9_measures.csv'))\n",
    "model_measures = model_measures[(model_measures.tta_condition>=4.0) & (model_measures.tta_condition<=6.0)]\n",
    "model_subj_d_measures = model_measures[(model_measures.subj_id==subj_id)]\n",
    "model_subj_d_measures[(model_subj_d_measures.d_condition==condition['d_condition']) & (model_subj_d_measures.tta_condition==condition['tta_condition'])].RT.values[0]"
   ]
  },
  {
   "cell_type": "markdown",
   "metadata": {},
   "source": [
    "### Model cross-validation"
   ]
  },
  {
   "cell_type": "code",
   "execution_count": 72,
   "metadata": {},
   "outputs": [
    {
     "data": {
      "text/plain": [
       "0    0.63257\n",
       "Name: RT, dtype: float64"
      ]
     },
     "execution_count": 72,
     "metadata": {},
     "output_type": "execute_result"
    }
   ],
   "source": [
    "extra_sim_measures = save_sim_results('extra_sim\\cross_validation_8\\subj_all.csv', conditions, ret='measures')\n",
    "extra_sim_measures.RT"
   ]
  },
  {
   "cell_type": "markdown",
   "metadata": {},
   "source": [
    "### RT cdf"
   ]
  },
  {
   "cell_type": "code",
   "execution_count": 70,
   "metadata": {},
   "outputs": [],
   "source": [
    "extra_sim_rt_cdf = save_sim_results('extra_sim\\cross_validation_8\\subj_all.csv', conditions, ret='rt_cdf')"
   ]
  },
  {
   "cell_type": "code",
   "execution_count": 71,
   "metadata": {},
   "outputs": [
    {
     "data": {
      "text/plain": [
       "<matplotlib.legend.Legend at 0x2bf6d90f240>"
      ]
     },
     "execution_count": 71,
     "metadata": {},
     "output_type": "execute_result"
    },
    {
     "data": {
      "image/png": "[encoded data removed]",
      "text/plain": [
       "<Figure size 432x288 with 1 Axes>"
      ]
     },
     "metadata": {
      "needs_background": "light"
     },
     "output_type": "display_data"
    }
   ],
   "source": [
    "model_rts = pd.read_csv(os.path.join(fit_results_path, 'cross_validation_9_rt_cdf.csv'))\n",
    "\n",
    "condition_data = exp_data[(exp_data.is_turn_decision) \n",
    "                    & (exp_data.d_condition==condition['d_condition']) \n",
    "                    & (exp_data.tta_condition==condition['tta_condition'])]\n",
    "\n",
    "q = [0.1, 0.3, 0.5, 0.7, 0.9]\n",
    "condition_quantiles = condition_data.groupby('subj_id').apply(lambda d: np.quantile(a=d.RT, q=q)).mean()\n",
    "rt_range = np.linspace(condition_quantiles.min(), condition_quantiles.max(), len(q))\n",
    "step = rt_range[1] - rt_range[0]\n",
    "rt_grid = np.concatenate([rt_range[:3]-3*step, rt_range, rt_range[-3:]+step*3])\n",
    "vincentized_cdf = np.interp(rt_grid, condition_quantiles, q, left=0, right=1)\n",
    "\n",
    "condition_rts = model_rts[(model_rts.subj_id=='all') \n",
    "                    & (model_rts.d_condition==condition['d_condition']) \n",
    "                    & (model_rts.tta_condition==condition['tta_condition'])]\n",
    "\n",
    "fig, ax = plt.subplots()\n",
    "ax.plot(condition_rts.t, condition_rts.rt_corr_pdf, label='model', color='grey')\n",
    "ax.plot(rt_grid, vincentized_cdf, ls='', marker='o', label='data')\n",
    "ax.plot(extra_sim_rt_cdf.t, extra_sim_rt_cdf.rt_corr_pdf, label='model CV')\n",
    "ax.set_xlim((0.0, 1.5))\n",
    "ax.legend()"
   ]
  }
 ],
 "metadata": {
  "kernelspec": {
   "display_name": "Python 3",
   "language": "python",
   "name": "python3"
  },
  "language_info": {
   "codemirror_mode": {
    "name": "ipython",
    "version": 3
   },
   "file_extension": ".py",
   "mimetype": "text/x-python",
   "name": "python",
   "nbconvert_exporter": "python",
   "pygments_lexer": "ipython3",
   "version": "3.6.10"
  }
 },
 "nbformat": 4,
 "nbformat_minor": 4
}
